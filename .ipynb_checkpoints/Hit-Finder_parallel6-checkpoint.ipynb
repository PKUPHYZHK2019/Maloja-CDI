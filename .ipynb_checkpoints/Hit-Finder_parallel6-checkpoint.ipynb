{
 "cells": [
  {
   "cell_type": "code",
   "execution_count": 1,
   "id": "d5e5c746-fc42-45b0-9509-e1428d344e3c",
   "metadata": {},
   "outputs": [],
   "source": [
    "# Conda Environment : miniconda3-mana-3.12\n",
    "import numpy as np\n",
    "import bitshuffle.h5\n",
    "# import scipy.io\n",
    "import os\n",
    "import sys\n",
    "import h5py\n",
    "from sfdata import SFDataFiles, SFScanInfo, SFProcFile\n"
   ]
  },
  {
   "cell_type": "code",
   "execution_count": 2,
   "id": "bc5051b8-4036-41d6-8ef2-8010a66deb0f",
   "metadata": {
    "scrolled": true
   },
   "outputs": [
    {
     "data": {
      "text/plain": [
       "['FindCenter.ipynb',\n",
       " 'parameters.py',\n",
       " 'find_center.py',\n",
       " 'example.ipynb',\n",
       " '.ipynb_checkpoints',\n",
       " 'bad_pixel.py',\n",
       " 'CMC.py',\n",
       " 'JFMask.npy',\n",
       " 'hit_finder.py',\n",
       " '__pycache__',\n",
       " 'img_process.py']"
      ]
     },
     "execution_count": 2,
     "metadata": {},
     "output_type": "execute_result"
    }
   ],
   "source": [
    "os.listdir(\"/sf/maloja/data/p22279/work/scripts\")"
   ]
  },
  {
   "cell_type": "code",
   "execution_count": 3,
   "id": "00aa6ea7-8ded-4642-ab84-f9f804f34e70",
   "metadata": {},
   "outputs": [
    {
     "data": {
      "text/plain": [
       "'/das/work/p22/p22279/Hankai'"
      ]
     },
     "execution_count": 3,
     "metadata": {},
     "output_type": "execute_result"
    }
   ],
   "source": [
    "%pwd"
   ]
  },
  {
   "cell_type": "code",
   "execution_count": 4,
   "id": "0c6bb50b-c496-4c42-88ef-048a9edb5314",
   "metadata": {},
   "outputs": [],
   "source": [
    "work_dir = \"/sf/maloja/data/p22279/work/scripts\"\n",
    "sys.path.append(work_dir)\n",
    "import CMC\n",
    "import bad_pixel\n",
    "import parameters\n",
    "import find_center\n",
    "import hit_finder\n",
    "\n",
    "\n",
    "import importlib\n"
   ]
  },
  {
   "cell_type": "code",
   "execution_count": 5,
   "id": "e051df9b-0df2-4afd-b73b-18e705adbee6",
   "metadata": {},
   "outputs": [
    {
     "name": "stdout",
     "output_type": "stream",
     "text": [
      "/sf/maloja/data/p22279/raw/run0021-Energy_scan_SASE_15fs_001\n",
      "/sf/maloja/data/p22279/raw/run0020-NaCl_50um_2lpm_15_fs_FELscan1060_1130_013\n",
      "/sf/maloja/data/p22279/raw/run0019-NaCl_50um_2lpm_15_fs_FELscan1060_1130_012\n",
      "/sf/maloja/data/p22279/raw/run0018-NaCl_50um_2lpm_15_fs_FELscan1060_1130_011\n",
      "/sf/maloja/data/p22279/raw/run0017-NaCl_50um_2lpm_15_fs_FELscan1060_1130_010\n",
      "/sf/maloja/data/p22279/raw/run0016-NaCl_50um_2lpm_15_fs_FELscan1060_1130_009\n",
      "/sf/maloja/data/p22279/raw/run0015-NaCl_50um_2lpm_15_fs_FELscan1060_1130_008\n",
      "/sf/maloja/data/p22279/raw/run0014-NaCl_50um_2lpm_15_fs_FELscan1060_1130_007\n",
      "/sf/maloja/data/p22279/raw/run0013-NaCl_50um_2lpm_15_fs_FELscan1060_1130_006\n",
      "/sf/maloja/data/p22279/raw/run0012-NaCl_50um_2lpm_15_fs_FELscan1060_1130_005\n",
      "/sf/maloja/data/p22279/raw/run0011-NaCl_50um_2lpm_15_fs_FELscan1060_1130_004\n",
      "/sf/maloja/data/p22279/raw/run0010-NaCl_50um_2lpm_15_fs_FELscan1060_1130_003\n",
      "/sf/maloja/data/p22279/raw/run0009-NaCl_50um_2lpm_15_fs_FELscan1060_1130_002\n",
      "/sf/maloja/data/p22279/raw/run0008-NaCl_50um_2lpm_15_fs_FELscan1060_1130_001\n",
      "/sf/maloja/data/p22279/raw/run0007-NaCl_50um_2lpm_15_fs_FELscan1060_1130_001\n",
      "/sf/maloja/data/p22279/raw/run0006-NaCl_50um_2lpm_15_fs_FELscan1060_1130_001\n",
      "/sf/maloja/data/p22279/raw/run0005-NaCl_WholeSize_15fs_1090eV_attenuated-40microJ\n",
      "/sf/maloja/data/p22279/raw/run0004-NaCl_WholeSize_15fs_PhotonEScan_diode\n",
      "/sf/maloja/data/p22279/raw/run0003-NaCl_WholeSize_15fs_PhotonEScan\n",
      "/sf/maloja/data/p22279/raw/run0002-NaCl_WholeSize_15fs_PhotonEScan\n",
      "/sf/maloja/data/p22279/raw/run0001-test_RT\n",
      "/sf/maloja/data/p22279/raw/JF_pedestals\n"
     ]
    }
   ],
   "source": [
    "pgroup = \"p22279\" # use the correct pgroup number\n",
    "raw_data_path = os.path.join(\"/sf/maloja/data\", pgroup, \"raw\")\n",
    "\n",
    "runs = sorted([os.path.join(raw_data_path, run) for run in os.listdir(raw_data_path) if run != 'run_info'])\n",
    "for run_name in runs[::-1]:\n",
    "    print(run_name)"
   ]
  },
  {
   "cell_type": "code",
   "execution_count": 6,
   "id": "bbd7848a-6c4d-432b-9da4-11b165371947",
   "metadata": {},
   "outputs": [
    {
     "name": "stdout",
     "output_type": "stream",
     "text": [
      "/sf/maloja/data/p22279/raw/run0021-Energy_scan_SASE_15fs_001\n"
     ]
    }
   ],
   "source": [
    "# Select a few runs you want to look at\n",
    "run_nums = [21]\n",
    "selected_runs = [run for run in runs for run_num in run_nums if f'run{run_num:04d}' in run]\n",
    "for selected_run in selected_runs:\n",
    "    print(selected_run)"
   ]
  },
  {
   "cell_type": "code",
   "execution_count": 8,
   "id": "1b7331fe-c7a7-49d3-bb5c-521791e12431",
   "metadata": {},
   "outputs": [],
   "source": [
    "channels = {\n",
    "    # 'XPS': 'SATES21-CAMS154-M1.projection_signal',\n",
    "    # 'tof': 'SATES21-GES1:A2_VALUES',\n",
    "    'calci': 'SATFE10-PEPG046-EVR0:CALCI',\n",
    "    # 'laser_off': 'SAT-CVME-TIFALL5:EvtSet',\n",
    "    # 'time_tool': 'SATES21-CAMS-PATT1.projection_signal',\n",
    "    'gasmon0': \"SATFE10-LSCP1:CH0:1\",\n",
    "    'gasmon1': \"SATFE10-LSCP1:CH1:1\",\n",
    "    'gasmon2': \"SATFE10-LSCP1:CH2:1\",\n",
    "    'gasmon3': \"SATFE10-LSCP1:CH3:1\",\n",
    "    'diode_projection_bkg': \"SATES24-CAMS161-M1.projection_background\",\n",
    "    'diode_projection_sig': 'SATES24-CAMS161-M1.projection_signal',\n",
    "    'diode_full': 'SATES21-GES1:A4_VALUES',\n",
    "    'JFdata': \"JF15T08V01\",\n",
    "}\n"
   ]
  },
  {
   "cell_type": "code",
   "execution_count": 7,
   "id": "bef22358-bb23-4847-82d2-39d522d34c03",
   "metadata": {},
   "outputs": [
    {
     "data": {
      "text/plain": [
       "56"
      ]
     },
     "execution_count": 7,
     "metadata": {},
     "output_type": "execute_result"
    }
   ],
   "source": [
    "os.cpu_count()"
   ]
  },
  {
   "cell_type": "code",
   "execution_count": 1,
   "id": "fccfe141-de7f-4d4c-8bfc-eb4883d2e6b1",
   "metadata": {},
   "outputs": [
    {
     "ename": "NameError",
     "evalue": "name 'scan' is not defined",
     "output_type": "error",
     "traceback": [
      "\u001b[0;31m---------------------------------------------------------------------------\u001b[0m",
      "\u001b[0;31mNameError\u001b[0m                                 Traceback (most recent call last)",
      "Cell \u001b[0;32mIn[1], line 4\u001b[0m\n\u001b[1;32m      1\u001b[0m \u001b[38;5;28;01mfrom\u001b[39;00m\u001b[38;5;250m \u001b[39m\u001b[38;5;21;01mconcurrent\u001b[39;00m\u001b[38;5;21;01m.\u001b[39;00m\u001b[38;5;21;01mfutures\u001b[39;00m\u001b[38;5;250m \u001b[39m\u001b[38;5;28;01mimport\u001b[39;00m ThreadPoolExecutor, as_completed\n\u001b[1;32m      2\u001b[0m \u001b[38;5;28;01mimport\u001b[39;00m\u001b[38;5;250m \u001b[39m\u001b[38;5;21;01mgc\u001b[39;00m\n\u001b[0;32m----> 4\u001b[0m \u001b[38;5;28;01mfor\u001b[39;00m i, step \u001b[38;5;129;01min\u001b[39;00m \u001b[38;5;28menumerate\u001b[39m(\u001b[43mscan\u001b[49m):\n\u001b[1;32m      5\u001b[0m     subset \u001b[38;5;241m=\u001b[39m step[channels\u001b[38;5;241m.\u001b[39mvalues()]\n\u001b[1;32m      6\u001b[0m     subset\u001b[38;5;241m.\u001b[39mdrop_missing()        \n",
      "\u001b[0;31mNameError\u001b[0m: name 'scan' is not defined"
     ]
    }
   ],
   "source": [
    "import os\n",
    "import numpy as np\n",
    "import h5py\n",
    "from concurrent.futures import ThreadPoolExecutor, as_completed\n",
    "import gc\n",
    "\n",
    "def process_batch(calci_batch, pids_batch, JF_batch, dio_sig_batch, dio_bkg_batch, hit_finder):\n",
    "    batch_jf_hits = []\n",
    "    batch_pid_hits = []\n",
    "    batch_calci_hits = []\n",
    "    batch_diode_sig_hits = []\n",
    "    batch_diode_bkg_hits = []\n",
    "    batch_bkgs = []\n",
    "\n",
    "    for img_index, (calci, jf_img, dio_sig, dio_bkg) in enumerate(zip(calci_batch, JF_batch, dio_sig_batch, dio_bkg_batch)):\n",
    "        jf_img_np = np.array(jf_img)\n",
    "        if hit_finder.is_hit(jf_img_np, bkg=0, threshold=1, percentage=0.015):\n",
    "            batch_jf_hits.append(jf_img_np)\n",
    "            batch_pid_hits.append(pids_batch[img_index])\n",
    "            batch_calci_hits.append(calci)\n",
    "            batch_diode_sig_hits.append(dio_sig)\n",
    "            batch_diode_bkg_hits.append(dio_bkg)\n",
    "        if not hit_finder.is_hit(jf_img_np, bkg=0, threshold=1, percentage=0.003):\n",
    "            if len(batch_bkgs) < 10:\n",
    "                batch_bkgs.append(jf_img_np)\n",
    "    return batch_jf_hits, batch_pid_hits, batch_calci_hits, batch_diode_sig_hits, batch_diode_bkg_hits, batch_bkgs\n",
    "\n",
    "Reduced_Data_Folder = '/das/work/p22/p22279/Reduced_Data'\n",
    "Batch_Size = 30\n",
    "\n",
    "for run_num, selected_run in zip(run_nums, selected_runs):\n",
    "\n",
    "    dir_name = os.path.join(Reduced_Data_Folder, f'run{run_num:04d}')\n",
    "    os.makedirs(dir_name, exist_ok=True)\n",
    "    \n",
    "    print(selected_run)\n",
    "    scan = SFScanInfo(os.path.join(selected_run, 'meta/scan.json'))\n",
    "    scan_steps = scan.readbacks\n",
    "    print('scan steps: ', scan_steps)\n",
    "    \n",
    "    for i, step in enumerate(scan):\n",
    "\n",
    "        subset = step[channels.values()]\n",
    "        subset.drop_missing()        \n",
    "        temp_calci = list(subset[channels['calci']].in_batches(Batch_Size))\n",
    "        temp_pids = subset[channels['calci']].pids\n",
    "        temp_diode_projection_signal = list(subset[channels['diode_projection_sig']].in_batches(Batch_Size))\n",
    "        temp_diode_projection_bkg = list(subset[channels['diode_projection_bkg']].in_batches(Batch_Size))\n",
    "        temp_JF = list(subset[channels['JFdata']].in_batches(Batch_Size))\n",
    "\n",
    "        h5file = os.path.join(dir_name, f'Run{run_num:04d}_acq{i+1:04d}.h5')\n",
    "\n",
    "        # Prepare batch jobs\n",
    "        jobs = []\n",
    "        for ((indices, calci_batch), (_, JF_batch), (_, dio_sig_batch), (_, dio_bkg_batch)) in zip(\n",
    "                temp_calci, temp_JF, temp_diode_projection_signal, temp_diode_projection_bkg):\n",
    "            pids_batch = temp_pids[indices]\n",
    "            jobs.append((calci_batch, pids_batch, JF_batch, dio_sig_batch, dio_bkg_batch, hit_finder))\n",
    "\n",
    "        # Parallel processing over batches\n",
    "        jf_hits = []\n",
    "        pid_hits = []\n",
    "        calci_hits = []\n",
    "        diode_sig_hits = []\n",
    "        diode_bkg_hits = []\n",
    "        bkgs = []\n",
    "        with ThreadPoolExecutor(max_workers=4) as executor:  # Tune max_workers for your system\n",
    "            futures = [executor.submit(process_batch, *job) for job in jobs]\n",
    "            for future in as_completed(futures):\n",
    "                (batch_jf_hits, batch_pid_hits, batch_calci_hits, \n",
    "                 batch_diode_sig_hits, batch_diode_bkg_hits, batch_bkgs) = future.result()\n",
    "                jf_hits.extend(batch_jf_hits)\n",
    "                pid_hits.extend(batch_pid_hits)\n",
    "                calci_hits.extend(batch_calci_hits)\n",
    "                diode_sig_hits.extend(batch_diode_sig_hits)\n",
    "                diode_bkg_hits.extend(batch_diode_bkg_hits)\n",
    "                for b in batch_bkgs:\n",
    "                    if len(bkgs) < 10:\n",
    "                        bkgs.append(b)\n",
    "                del batch_jf_hits, batch_pid_hits, batch_calci_hits, batch_diode_sig_hits, batch_diode_bkg_hits, batch_bkgs\n",
    "                gc.collect()\n",
    "        del jobs\n",
    "        gc.collect()\n",
    "\n",
    "        # Write hits to HDF5 file (only if at least 1 hit)\n",
    "        if jf_hits:\n",
    "            with h5py.File(h5file, 'w') as f:\n",
    "                f.create_dataset('ReducedJF', data=np.stack(jf_hits), compression='gzip')\n",
    "                f.create_dataset('Pulse_ID', data=np.array(pid_hits), compression='gzip')\n",
    "                f.create_dataset('Calci', data=np.array(calci_hits), compression='gzip')       \n",
    "                f.create_dataset('Backgrounds', data=np.array(bkgs), compression='gzip')\n",
    "                f.create_dataset('Diode_Projection_Signal', data=np.array(diode_sig_hits), compression='gzip')\n",
    "                f.create_dataset('Diode_Projection_Background', data=np.array(diode_bkg_hits), compression='gzip')\n",
    "        del jf_hits, pid_hits, calci_hits, diode_sig_hits, diode_bkg_hits, bkgs\n",
    "        gc.collect()\n"
   ]
  },
  {
   "cell_type": "code",
   "execution_count": 10,
   "id": "1525f180-3d8f-4439-b060-4ff558b28464",
   "metadata": {},
   "outputs": [
    {
     "name": "stdout",
     "output_type": "stream",
     "text": [
      "/sf/maloja/data/p22279/raw/run0021-Energy_scan_SASE_15fs_001\n",
      "scan steps:  [1059.67093607 1060.68509218 1061.69669985 1062.68785355 1063.683689\n",
      " 1064.68660213 1065.70814402 1066.6863924  1067.70714405 1068.68887305\n",
      " 1069.69392258 1070.67701328 1071.68470556 1072.66693419 1073.68411268\n",
      " 1074.69046199 1075.68833703 1076.68337931 1077.70472423 1078.68035547\n",
      " 1079.6984762  1080.70213796 1081.6785282  1082.69234665 1083.68266757\n",
      " 1084.68432677 1085.7004825  1086.67669169 1087.68226356 1088.68200883\n",
      " 1089.68208718 1090.67647257 1091.68075819 1092.68686562 1093.68865884\n",
      " 1094.69454198 1095.67676531 1096.67861629 1097.68601286 1098.66969364\n",
      " 1099.67688665 1100.68269995 1101.66577075 1102.68104234 1103.69511177\n",
      " 1104.65946183 1105.6740973  1106.70905558 1107.68152191 1108.68572675\n",
      " 1109.66613791 1110.66929268 1111.67931604 1112.68598396 1113.68002505\n",
      " 1114.67889982]\n",
      "Auto-located gain file: /sf/jungfrau/config/gainMaps/JF15T08V01/gains.h5\n",
      "Auto-located pedestal file: /sf/maloja/data/p22279/raw/JF_pedestals/20250708_185417.JF15T08V01.res.h5\n",
      "jungfrau file: 10:42 09.07.2025\n",
      "pedestal file: 18:56 08.07.2025\n",
      "    mtime difference: 15:45:56.034968\n"
     ]
    },
    {
     "name": "stderr",
     "output_type": "stream",
     "text": [
      "\n",
      "KeyboardInterrupt\n",
      "\n"
     ]
    }
   ],
   "source": [
    "import os\n",
    "import numpy as np\n",
    "import h5py\n",
    "from concurrent.futures import ThreadPoolExecutor, as_completed\n",
    "import gc\n",
    "\n",
    "def process_image(jf_img, calci, pid, dio_sig, dio_bkg, hit_finder):\n",
    "    jf_img_np = np.array(jf_img)\n",
    "    hit = hit_finder.is_hit(jf_img_np, bkg=0, threshold=1, percentage=0.015)\n",
    "    bkg = not hit_finder.is_hit(jf_img_np, bkg=0, threshold=1, percentage=0.003)\n",
    "    return hit, jf_img_np, pid, calci, dio_sig, dio_bkg, bkg\n",
    "\n",
    "Reduced_Data_Folder = '/das/work/p22/p22279/Reduced_Data'\n",
    "Batch_Size = 200\n",
    "\n",
    "for run_num, selected_run in zip(run_nums, selected_runs):\n",
    "    dir_name = os.path.join(Reduced_Data_Folder, f'run{run_num:04d}')\n",
    "    os.makedirs(dir_name, exist_ok=True)\n",
    "    \n",
    "    print(selected_run)\n",
    "    scan = SFScanInfo(os.path.join(selected_run, 'meta/scan.json'))\n",
    "    scan_steps = scan.readbacks\n",
    "    print('scan steps: ',scan_steps)\n",
    "    \n",
    "    for i, step in enumerate(scan):\n",
    "        subset = step[channels.values()]\n",
    "        subset.drop_missing()\n",
    "        temp_calci = subset[channels['calci']].in_batches(Batch_Size)\n",
    "        temp_pids = subset[channels['calci']].pids\n",
    "        temp_dio_sig = subset[channels['diode_projection_sig']].in_batches(Batch_Size)\n",
    "        temp_dio_bkg = subset[channels['diode_projection_bkg']].in_batches(Batch_Size)\n",
    "        temp_JF = subset[channels['JFdata']].in_batches(Batch_Size)\n",
    "        bkgs = []\n",
    "\n",
    "        h5file = os.path.join(dir_name, f'Run{run_num:04d}_acq{i+1:04d}.h5')\n",
    "\n",
    "        jf_hits = []\n",
    "        pid_hits = []\n",
    "        calci_hits = []\n",
    "        diode_sig_hits = []\n",
    "        diode_bkg_hits = []\n",
    "\n",
    "        for (indices, calci_batch), (_, JF_batch), (_, dio_sig_batch), (_, dio_bkg_batch) in zip(\n",
    "                temp_calci, temp_JF, temp_dio_sig, temp_dio_bkg):\n",
    "\n",
    "            pids_batch = temp_pids[indices]\n",
    "            batch_args = [\n",
    "                (jf_img, calci, pid, dio_sig, dio_bkg, hit_finder)\n",
    "                for jf_img, calci, pid, dio_sig, dio_bkg\n",
    "                in zip(JF_batch, calci_batch, pids_batch, dio_sig_batch, dio_bkg_batch)\n",
    "            ]\n",
    "\n",
    "            # Parallelize inside the batch\n",
    "            with ThreadPoolExecutor(max_workers=40) as executor:  # Tune as your memory allows\n",
    "                futures = [executor.submit(process_image, *arg) for arg in batch_args]\n",
    "                for future in as_completed(futures):\n",
    "                    hit, jf_img_np, pid, calci, dio_sig, dio_bkg, bkg = future.result()\n",
    "                    if hit:\n",
    "                        jf_hits.append(jf_img_np)\n",
    "                        pid_hits.append(pid)\n",
    "                        calci_hits.append(calci)\n",
    "                        diode_sig_hits.append(dio_sig)\n",
    "                        diode_bkg_hits.append(dio_bkg)\n",
    "                    if bkg and len(bkgs) < 10:\n",
    "                        bkgs.append(jf_img_np)\n",
    "\n",
    "            del batch_args, futures\n",
    "            gc.collect()\n",
    "\n",
    "        # Write hits to HDF5 file (only if at least 1 hit)\n",
    "        if jf_hits:\n",
    "            with h5py.File(h5file, 'w') as f:\n",
    "                f.create_dataset('ReducedJF', data=np.stack(jf_hits), compression='gzip')\n",
    "                f.create_dataset('Pulse_ID', data=np.array(pid_hits), compression='gzip')\n",
    "                f.create_dataset('Calci', data=np.array(calci_hits), compression='gzip')\n",
    "                f.create_dataset('Backgrounds', data=np.array(bkgs), compression='gzip')\n",
    "                f.create_dataset('Diode_Projection_Signal', data=np.array(diode_sig_hits), compression='gzip')\n",
    "                f.create_dataset('Diode_Projection_Background', data=np.array(diode_bkg_hits), compression='gzip')\n",
    "        del jf_hits, pid_hits, calci_hits, diode_sig_hits, diode_bkg_hits\n",
    "        gc.collect()\n"
   ]
  },
  {
   "cell_type": "code",
   "execution_count": 9,
   "id": "a9d585f8-6a4d-43e5-9839-3d7a41c3b33f",
   "metadata": {},
   "outputs": [
    {
     "data": {
      "text/plain": [
       "56"
      ]
     },
     "execution_count": 9,
     "metadata": {},
     "output_type": "execute_result"
    }
   ],
   "source": []
  },
  {
   "cell_type": "code",
   "execution_count": null,
   "id": "67c64271-9d37-4807-8c46-3674c35220f1",
   "metadata": {},
   "outputs": [],
   "source": []
  }
 ],
 "metadata": {
  "kernelspec": {
   "display_name": "Python [conda env:miniconda3-mana-3.12]",
   "language": "python",
   "name": "conda-env-miniconda3-mana-3.12-py"
  },
  "language_info": {
   "codemirror_mode": {
    "name": "ipython",
    "version": 3
   },
   "file_extension": ".py",
   "mimetype": "text/x-python",
   "name": "python",
   "nbconvert_exporter": "python",
   "pygments_lexer": "ipython3",
   "version": "3.12.9"
  },
  "widgets": {
   "application/vnd.jupyter.widget-state+json": {
    "state": {},
    "version_major": 2,
    "version_minor": 0
   }
  }
 },
 "nbformat": 4,
 "nbformat_minor": 5
}
