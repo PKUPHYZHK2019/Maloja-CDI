{
 "cells": [
  {
   "cell_type": "code",
   "execution_count": 1,
   "id": "d5e5c746-fc42-45b0-9509-e1428d344e3c",
   "metadata": {},
   "outputs": [],
   "source": [
    "# Conda Environment : miniconda3-mana-3.12\n",
    "import numpy as np\n",
    "import bitshuffle.h5\n",
    "# import scipy.io\n",
    "import os\n",
    "import sys\n",
    "import h5py\n",
    "from sfdata import SFDataFiles, SFScanInfo, SFProcFile\n"
   ]
  },
  {
   "cell_type": "code",
   "execution_count": 4,
   "id": "e051df9b-0df2-4afd-b73b-18e705adbee6",
   "metadata": {},
   "outputs": [
    {
     "name": "stdout",
     "output_type": "stream",
     "text": [
      "/sf/maloja/data/p21108/raw/p21108\n",
      "/sf/maloja/data/p21108/raw/JF_pedestals\n"
     ]
    }
   ],
   "source": [
    "pgroup = \"p21108\" # use the correct pgroup number\n",
    "raw_data_path = os.path.join(\"/sf/maloja/data\", pgroup, \"raw\")\n",
    "\n",
    "runs = sorted([os.path.join(raw_data_path, run) for run in os.listdir(raw_data_path) if run != 'run_info'])\n",
    "for run_name in runs[::-1]:\n",
    "    print(run_name)"
   ]
  },
  {
   "cell_type": "code",
   "execution_count": null,
   "id": "bbd7848a-6c4d-432b-9da4-11b165371947",
   "metadata": {},
   "outputs": [],
   "source": [
    "# Select a few runs you want to look at\n",
    "run_nums = [1, 2, 3, 4]\n",
    "selected_runs = [run for run in runs for run_num in run_nums if f'run{run_num:04d}' in run]\n",
    "for selected_run in selected_runs:\n",
    "    print(selected_run)"
   ]
  },
  {
   "cell_type": "code",
   "execution_count": 5,
   "id": "1b7331fe-c7a7-49d3-bb5c-521791e12431",
   "metadata": {},
   "outputs": [],
   "source": [
    "channels = {\n",
    "    # 'XPS': 'SATES21-CAMS154-M1.projection_signal',\n",
    "    # 'tof': 'SATES21-GES1:A2_VALUES',\n",
    "    'calci': 'SATFE10-PEPG046-EVR0:CALCI',\n",
    "    # 'laser_off': 'SAT-CVME-TIFALL5:EvtSet',\n",
    "    # 'time_tool': 'SATES21-CAMS-PATT1.projection_signal',\n",
    "    'gasmon0': \"SATFE10-LSCP1:CH0:1\",\n",
    "    'gasmon1': \"SATFE10-LSCP1:CH1:1\",\n",
    "    'gasmon2': \"SATFE10-LSCP1:CH2:1\",\n",
    "    'gasmon3': \"SATFE10-LSCP1:CH3:1\",\n",
    "    'JFdata': \"JF15T08V01\",\n",
    "}\n"
   ]
  },
  {
   "cell_type": "code",
   "execution_count": null,
   "id": "d8bd0583-d026-4b59-b25a-140f1e6611f4",
   "metadata": {},
   "outputs": [],
   "source": [
    "# The way to load data\n",
    "for selected_run in selected_runs:\n",
    "    print(selected_run)\n",
    "    scan = SFScanInfo(os.path.join(selected_run, 'meta/scan.json'))\n",
    "    scan_steps = scan.readbacks\n",
    "    for i, step in enumerate(scan):\n",
    "        subset = step[channels.values()]\n",
    "        subset.drop_missing()\n",
    "\n",
    "        # pulse energy\n",
    "        temp_calci = subset[channels['calci']].data\n",
    "\n",
    "        # JungFrau data\n",
    "        temp_JF = subset[channels['JFdata']].data     # this is going to be a huge amount of data\n"
   ]
  }
 ],
 "metadata": {
  "kernelspec": {
   "display_name": "Python [conda env:miniconda3-mana-3.12]",
   "language": "python",
   "name": "conda-env-miniconda3-mana-3.12-py"
  },
  "language_info": {
   "codemirror_mode": {
    "name": "ipython",
    "version": 3
   },
   "file_extension": ".py",
   "mimetype": "text/x-python",
   "name": "python",
   "nbconvert_exporter": "python",
   "pygments_lexer": "ipython3",
   "version": "3.12.9"
  },
  "widgets": {
   "application/vnd.jupyter.widget-state+json": {
    "state": {},
    "version_major": 2,
    "version_minor": 0
   }
  }
 },
 "nbformat": 4,
 "nbformat_minor": 5
}
